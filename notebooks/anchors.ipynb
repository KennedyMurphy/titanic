{
 "cells": [
  {
   "cell_type": "code",
   "execution_count": 1,
   "metadata": {},
   "outputs": [
    {
     "name": "stderr",
     "output_type": "stream",
     "text": [
      "WARNING: Logging before flag parsing goes to stderr.\n",
      "W0724 08:27:22.263968 4602295744 deprecation_wrapper.py:119] From /Users/kennedymurphy/venv/lib/python3.7/site-packages/alibi/explainers/cem.py:19: The name tf.Session is deprecated. Please use tf.compat.v1.Session instead.\n",
      "\n"
     ]
    }
   ],
   "source": [
    "import pandas as pd\n",
    "import numpy as np\n",
    "import xgboost as xgb\n",
    "\n",
    "from alibi.explainers import AnchorTabular\n",
    "\n",
    "from sklearn.model_selection import train_test_split"
   ]
  },
  {
   "cell_type": "code",
   "execution_count": 2,
   "metadata": {},
   "outputs": [],
   "source": [
    "train = pd.read_csv(\"../data/train_features.csv\")\n",
    "train.set_index('PassengerId', inplace=True)\n",
    "\n",
    "test = pd.read_csv(\"../data/test_features.csv\")\n",
    "test.set_index(\"PassengerId\", inplace=True)\n",
    "\n",
    "X = train[[c for c in train.columns if c != 'Survived']].values\n",
    "y = train.Survived.values\n",
    "\n",
    "feature_names = train[[c for c in train.columns if c != 'Survived']].columns\n",
    "\n",
    "test = test[feature_names]"
   ]
  },
  {
   "cell_type": "code",
   "execution_count": 3,
   "metadata": {},
   "outputs": [],
   "source": [
    "model = xgb.XGBClassifier()\n",
    "model = model.fit(X, y)"
   ]
  },
  {
   "cell_type": "code",
   "execution_count": 4,
   "metadata": {},
   "outputs": [],
   "source": [
    "from alibi.explainers import AnchorTabular\n",
    "\n",
    "explainer = AnchorTabular(\n",
    "    predict_fn=lambda x: model.predict(x),\n",
    "    feature_names=feature_names)\n",
    "\n",
    "explainer.fit(X, disc_perc=[25, 50, 75])"
   ]
  },
  {
   "cell_type": "code",
   "execution_count": 5,
   "metadata": {},
   "outputs": [
    {
     "name": "stderr",
     "output_type": "stream",
     "text": [
      "W0724 08:27:26.829955 4602295744 anchor_base.py:618] Could not find an anchor satisfying the 0.95 precision constraint. Now returning the best non-eligible anchor.\n",
      "W0724 08:27:28.009369 4602295744 anchor_base.py:618] Could not find an anchor satisfying the 0.95 precision constraint. Now returning the best non-eligible anchor.\n",
      "W0724 08:27:35.970633 4602295744 anchor_base.py:618] Could not find an anchor satisfying the 0.95 precision constraint. Now returning the best non-eligible anchor.\n",
      "W0724 08:27:39.744749 4602295744 anchor_base.py:618] Could not find an anchor satisfying the 0.95 precision constraint. Now returning the best non-eligible anchor.\n",
      "W0724 08:27:46.453356 4602295744 anchor_base.py:618] Could not find an anchor satisfying the 0.95 precision constraint. Now returning the best non-eligible anchor.\n",
      "W0724 08:27:55.429753 4602295744 anchor_base.py:618] Could not find an anchor satisfying the 0.95 precision constraint. Now returning the best non-eligible anchor.\n",
      "W0724 08:28:16.312796 4602295744 anchor_base.py:618] Could not find an anchor satisfying the 0.95 precision constraint. Now returning the best non-eligible anchor.\n",
      "W0724 08:28:23.092833 4602295744 anchor_base.py:618] Could not find an anchor satisfying the 0.95 precision constraint. Now returning the best non-eligible anchor.\n",
      "W0724 08:28:26.729928 4602295744 anchor_base.py:618] Could not find an anchor satisfying the 0.95 precision constraint. Now returning the best non-eligible anchor.\n",
      "W0724 08:28:32.217859 4602295744 anchor_base.py:618] Could not find an anchor satisfying the 0.95 precision constraint. Now returning the best non-eligible anchor.\n",
      "W0724 08:28:37.526211 4602295744 anchor_base.py:618] Could not find an anchor satisfying the 0.95 precision constraint. Now returning the best non-eligible anchor.\n",
      "W0724 08:28:41.704097 4602295744 anchor_base.py:618] Could not find an anchor satisfying the 0.95 precision constraint. Now returning the best non-eligible anchor.\n",
      "W0724 08:28:44.898959 4602295744 anchor_base.py:618] Could not find an anchor satisfying the 0.95 precision constraint. Now returning the best non-eligible anchor.\n",
      "W0724 08:28:48.113944 4602295744 anchor_base.py:618] Could not find an anchor satisfying the 0.95 precision constraint. Now returning the best non-eligible anchor.\n",
      "W0724 08:28:53.741615 4602295744 anchor_base.py:618] Could not find an anchor satisfying the 0.95 precision constraint. Now returning the best non-eligible anchor.\n",
      "W0724 08:28:59.645736 4602295744 anchor_base.py:618] Could not find an anchor satisfying the 0.95 precision constraint. Now returning the best non-eligible anchor.\n",
      "W0724 08:29:15.067768 4602295744 anchor_base.py:618] Could not find an anchor satisfying the 0.95 precision constraint. Now returning the best non-eligible anchor.\n",
      "W0724 08:29:15.559329 4602295744 anchor_base.py:618] Could not find an anchor satisfying the 0.95 precision constraint. Now returning the best non-eligible anchor.\n",
      "W0724 08:29:21.377680 4602295744 anchor_base.py:618] Could not find an anchor satisfying the 0.95 precision constraint. Now returning the best non-eligible anchor.\n",
      "W0724 08:29:29.694904 4602295744 anchor_base.py:618] Could not find an anchor satisfying the 0.95 precision constraint. Now returning the best non-eligible anchor.\n",
      "W0724 08:29:33.377418 4602295744 anchor_base.py:618] Could not find an anchor satisfying the 0.95 precision constraint. Now returning the best non-eligible anchor.\n",
      "W0724 08:29:47.939610 4602295744 anchor_base.py:618] Could not find an anchor satisfying the 0.95 precision constraint. Now returning the best non-eligible anchor.\n",
      "W0724 08:29:59.667031 4602295744 anchor_base.py:618] Could not find an anchor satisfying the 0.95 precision constraint. Now returning the best non-eligible anchor.\n",
      "W0724 08:30:04.694883 4602295744 anchor_base.py:618] Could not find an anchor satisfying the 0.95 precision constraint. Now returning the best non-eligible anchor.\n",
      "W0724 08:30:08.677797 4602295744 anchor_base.py:618] Could not find an anchor satisfying the 0.95 precision constraint. Now returning the best non-eligible anchor.\n",
      "W0724 08:30:09.571166 4602295744 anchor_base.py:618] Could not find an anchor satisfying the 0.95 precision constraint. Now returning the best non-eligible anchor.\n",
      "W0724 08:30:23.149157 4602295744 anchor_base.py:618] Could not find an anchor satisfying the 0.95 precision constraint. Now returning the best non-eligible anchor.\n"
     ]
    }
   ],
   "source": [
    "# Generate explanations\n",
    "records = []\n",
    "num_records = test.shape[0]\n",
    "idx = test.index\n",
    "values = test.values\n",
    "\n",
    "for i in range(num_records):\n",
    "    explanation = explainer.explain(\n",
    "        values[i], threshold=0.95, max_anchor_size=5)\n",
    "    \n",
    "    explanation_summary = {\n",
    "        'prediction': model.predict(values[i,].reshape(1,-1))[0],\n",
    "        'anchor': \" AND \".join([str(x) for x in explanation['names']]),\n",
    "        'precision': float(round(explanation['precision'], 4)),\n",
    "        'coverage': float(round(explanation['coverage'], 4))\n",
    "    }\n",
    "    \n",
    "    records.append(explanation_summary)"
   ]
  },
  {
   "cell_type": "code",
   "execution_count": 6,
   "metadata": {},
   "outputs": [],
   "source": [
    "records = pd.DataFrame(records).sort_values('coverage')"
   ]
  },
  {
   "cell_type": "code",
   "execution_count": 14,
   "metadata": {},
   "outputs": [
    {
     "data": {
      "text/plain": [
       "{'anchor': 'Fare <= 8.05 AND Miss <= 0.00 AND Embarked_C <= 0.00 AND Master <= 0.00',\n",
       " 'coverage': 0.3898,\n",
       " 'precision': 0.8767,\n",
       " 'prediction': 0.0}"
      ]
     },
     "execution_count": 14,
     "metadata": {},
     "output_type": "execute_result"
    }
   ],
   "source": [
    "records.loc[365].to_dict()"
   ]
  },
  {
   "cell_type": "code",
   "execution_count": 8,
   "metadata": {},
   "outputs": [
    {
     "data": {
      "text/plain": [
       "{'anchor': 'Master > 0.00 AND Infant <= 0.00 AND Child <= 0.00',\n",
       " 'coverage': 0.0086,\n",
       " 'precision': 0.9553,\n",
       " 'prediction': 1.0}"
      ]
     },
     "execution_count": 8,
     "metadata": {},
     "output_type": "execute_result"
    }
   ],
   "source": [
    "records.loc[244].to_dict()"
   ]
  },
  {
   "cell_type": "code",
   "execution_count": 23,
   "metadata": {},
   "outputs": [
    {
     "data": {
      "text/html": [
       "<div>\n",
       "<style scoped>\n",
       "    .dataframe tbody tr th:only-of-type {\n",
       "        vertical-align: middle;\n",
       "    }\n",
       "\n",
       "    .dataframe tbody tr th {\n",
       "        vertical-align: top;\n",
       "    }\n",
       "\n",
       "    .dataframe thead th {\n",
       "        text-align: right;\n",
       "    }\n",
       "</style>\n",
       "<table border=\"1\" class=\"dataframe\">\n",
       "  <thead>\n",
       "    <tr style=\"text-align: right;\">\n",
       "      <th></th>\n",
       "      <th>anchor</th>\n",
       "      <th>coverage</th>\n",
       "      <th>precision</th>\n",
       "      <th>prediction</th>\n",
       "    </tr>\n",
       "  </thead>\n",
       "  <tbody>\n",
       "    <tr>\n",
       "      <th>365</th>\n",
       "      <td>Fare &lt;= 8.05 AND Miss &lt;= 0.00 AND Embarked_C &lt;...</td>\n",
       "      <td>0.3898</td>\n",
       "      <td>0.8767</td>\n",
       "      <td>0.0</td>\n",
       "    </tr>\n",
       "  </tbody>\n",
       "</table>\n",
       "</div>"
      ],
      "text/plain": [
       "                                                anchor  coverage  precision  \\\n",
       "365  Fare <= 8.05 AND Miss <= 0.00 AND Embarked_C <...    0.3898     0.8767   \n",
       "\n",
       "     prediction  \n",
       "365         0.0  "
      ]
     },
     "execution_count": 23,
     "metadata": {},
     "output_type": "execute_result"
    }
   ],
   "source": [
    "records[records['anchor'] == 'Fare <= 8.05 AND Miss <= 0.00 AND Embarked_C <= 0.00 AND Master <= 0.00']"
   ]
  },
  {
   "cell_type": "code",
   "execution_count": 23,
   "metadata": {},
   "outputs": [
    {
     "data": {
      "text/plain": [
       "'Female <= 0.00 AND Fare <= 8.05'"
      ]
     },
     "execution_count": 23,
     "metadata": {},
     "output_type": "execute_result"
    }
   ],
   "source": [
    "\" AND \".join(['Female <= 0.00', 'Fare <= 8.05'])"
   ]
  },
  {
   "cell_type": "code",
   "execution_count": null,
   "metadata": {},
   "outputs": [],
   "source": []
  }
 ],
 "metadata": {
  "kernelspec": {
   "display_name": "venv",
   "language": "python",
   "name": "venv"
  },
  "language_info": {
   "codemirror_mode": {
    "name": "ipython",
    "version": 3
   },
   "file_extension": ".py",
   "mimetype": "text/x-python",
   "name": "python",
   "nbconvert_exporter": "python",
   "pygments_lexer": "ipython3",
   "version": "3.7.2"
  }
 },
 "nbformat": 4,
 "nbformat_minor": 2
}
