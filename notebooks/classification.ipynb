{
 "cells": [
  {
   "cell_type": "code",
   "execution_count": 1,
   "metadata": {},
   "outputs": [],
   "source": [
    "import pandas as pd\n",
    "import numpy as np\n",
    "\n",
    "import mlflow\n",
    "\n",
    "import xgboost as xgb\n",
    "\n",
    "from sklearn.model_selection import train_test_split\n",
    "from sklearn.tree import DecisionTreeClassifier\n",
    "from sklearn.ensemble import RandomForestClassifier\n",
    "from sklearn import metrics"
   ]
  },
  {
   "cell_type": "code",
   "execution_count": 2,
   "metadata": {},
   "outputs": [],
   "source": [
    "train = pd.read_csv(\"../data/train_features.csv\")\n",
    "train.set_index('PassengerId', inplace=True)\n",
    "\n",
    "X = train[[c for c in train.columns if c != 'Survived']].values\n",
    "y = train.Survived.values"
   ]
  },
  {
   "cell_type": "code",
   "execution_count": 3,
   "metadata": {},
   "outputs": [],
   "source": [
    " X_train, X_test, y_train, y_test = train_test_split(\n",
    "     X, y, test_size=0.33, random_state=42)"
   ]
  },
  {
   "cell_type": "code",
   "execution_count": 4,
   "metadata": {},
   "outputs": [],
   "source": [
    "models = [\n",
    "    (RandomForestClassifier, {'n_estimators':100, 'max_depth':2, 'random_state':42}),\n",
    "    (DecisionTreeClassifier, {}),\n",
    "    (xgb.XGBClassifier, {})\n",
    "]"
   ]
  },
  {
   "cell_type": "code",
   "execution_count": 5,
   "metadata": {},
   "outputs": [
    {
     "name": "stdout",
     "output_type": "stream",
     "text": [
      "Training RandomForestClassifier...\n",
      "Logging RandomForestClassifier metrics\n",
      "Training DecisionTreeClassifier...\n",
      "Logging DecisionTreeClassifier metrics\n",
      "Training XGBClassifier...\n",
      "Logging XGBClassifier metrics\n"
     ]
    }
   ],
   "source": [
    "for model, params in models:\n",
    "    print(\"Training {}...\".format(model.__name__))\n",
    "    m = model(**params)\n",
    "    m = m.fit(X_train, y_train)\n",
    "    \n",
    "    y_pred = m.predict(X_test)\n",
    "    \n",
    "    overall_metrics = {\n",
    "        \"precision_weighted\": metrics.precision_score(y_test, y_pred, average='weighted'),\n",
    "        \"recall_weighted\": metrics.recall_score(y_test, y_pred, average='weighted'),\n",
    "        \"f1_score_weighted\": metrics.f1_score(y_test, y_pred, average='weighted'),\n",
    "        \"precision_macro\": metrics.precision_score(y_test, y_pred, average='macro'),\n",
    "        \"recall_macro\": metrics.recall_score(y_test, y_pred, average='macro'),\n",
    "        \"f1_score_macro\": metrics.f1_score(y_test, y_pred, average='macro'),\n",
    "    }\n",
    "    \n",
    "    print(\"Logging {} metrics\".format(model.__name__))\n",
    "    with mlflow.start_run():\n",
    "        \n",
    "        mlflow.log_param(\"model\", model)\n",
    "        mlflow.log_params(params)\n",
    "        \n",
    "        mlflow.log_metrics(overall_metrics)"
   ]
  },
  {
   "cell_type": "code",
   "execution_count": null,
   "metadata": {},
   "outputs": [],
   "source": []
  }
 ],
 "metadata": {
  "kernelspec": {
   "display_name": "venv",
   "language": "python",
   "name": "venv"
  },
  "language_info": {
   "codemirror_mode": {
    "name": "ipython",
    "version": 3
   },
   "file_extension": ".py",
   "mimetype": "text/x-python",
   "name": "python",
   "nbconvert_exporter": "python",
   "pygments_lexer": "ipython3",
   "version": "3.7.2"
  }
 },
 "nbformat": 4,
 "nbformat_minor": 2
}
